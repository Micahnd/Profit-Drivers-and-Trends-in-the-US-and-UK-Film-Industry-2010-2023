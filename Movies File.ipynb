{
 "cells": [
  {
   "cell_type": "markdown",
   "id": "94da3bea-b86c-4aad-9628-b4aebb3bfc3d",
   "metadata": {},
   "source": [
    "**Importing needed libraries and loading file**"
   ]
  },
  {
   "cell_type": "code",
   "execution_count": 1,
   "id": "faa28bc7-74ec-4188-bb37-924eba27eb88",
   "metadata": {},
   "outputs": [],
   "source": [
    "import pandas as pd\n",
    "import re\n",
    "import numpy as np"
   ]
  },
  {
   "cell_type": "code",
   "execution_count": 2,
   "id": "534e93ea-e850-45a3-878c-2c70201d7350",
   "metadata": {},
   "outputs": [],
   "source": [
    "file= pd.read_csv('C:\\\\Users\\\\Admin\\\\Downloads\\\\TMDB_movie_dataset_v11.csv')\n"
   ]
  },
  {
   "cell_type": "markdown",
   "id": "d4df6aae-ce4f-4da7-bf3e-7e355c2cf838",
   "metadata": {},
   "source": [
    "**Filtering movies released on or after January 1, 2010, and produced in the USA and/or UK**\n",
    "*including co-productions with other countries.*"
   ]
  },
  {
   "cell_type": "code",
   "execution_count": 6,
   "id": "cca6673a-2ae0-47a5-82d9-1fa623e6878a",
   "metadata": {},
   "outputs": [],
   "source": [
    "df_filtered= file[file['release_date']>='2010-01-01']"
   ]
  },
  {
   "cell_type": "code",
   "execution_count": 7,
   "id": "44754fb1-1cea-43a7-ad5e-a2c02377eaee",
   "metadata": {},
   "outputs": [],
   "source": [
    "df_filtered =df_filtered[df_filtered['production_countries'].str.contains(\"United States of America|United Kingdom\", na=False)]"
   ]
  },
  {
   "cell_type": "markdown",
   "id": "5f4945e7-182c-490a-b280-0cf2cc3618ac",
   "metadata": {},
   "source": [
    "**Making a copy of the imported file,** *copies of this file will be made at different points in this code*"
   ]
  },
  {
   "cell_type": "code",
   "execution_count": 8,
   "id": "5d61fbc6-ef4b-464a-8a70-57efdcf9ab27",
   "metadata": {},
   "outputs": [],
   "source": [
    "movies_df=df_filtered.copy()"
   ]
  },
  {
   "cell_type": "markdown",
   "id": "6e47cdd0-f063-42fe-8307-372f33643649",
   "metadata": {},
   "source": [
    "**Eye-balling the data**"
   ]
  },
  {
   "cell_type": "code",
   "execution_count": 9,
   "id": "74449162-7177-4cde-a93f-b9a8903b2300",
   "metadata": {},
   "outputs": [],
   "source": [
    "#setting display options to be able to view all columns \n",
    "pd.set_option('display.max_columns', None)"
   ]
  },
  {
   "cell_type": "code",
   "execution_count": 10,
   "id": "328c7669-991f-4411-b044-8536f4b67b9b",
   "metadata": {},
   "outputs": [
    {
     "data": {
      "text/html": [
       "<div>\n",
       "<style scoped>\n",
       "    .dataframe tbody tr th:only-of-type {\n",
       "        vertical-align: middle;\n",
       "    }\n",
       "\n",
       "    .dataframe tbody tr th {\n",
       "        vertical-align: top;\n",
       "    }\n",
       "\n",
       "    .dataframe thead th {\n",
       "        text-align: right;\n",
       "    }\n",
       "</style>\n",
       "<table border=\"1\" class=\"dataframe\">\n",
       "  <thead>\n",
       "    <tr style=\"text-align: right;\">\n",
       "      <th></th>\n",
       "      <th>id</th>\n",
       "      <th>title</th>\n",
       "      <th>vote_average</th>\n",
       "      <th>vote_count</th>\n",
       "      <th>status</th>\n",
       "      <th>release_date</th>\n",
       "      <th>revenue</th>\n",
       "      <th>runtime</th>\n",
       "      <th>adult</th>\n",
       "      <th>backdrop_path</th>\n",
       "      <th>budget</th>\n",
       "      <th>homepage</th>\n",
       "      <th>imdb_id</th>\n",
       "      <th>original_language</th>\n",
       "      <th>original_title</th>\n",
       "      <th>overview</th>\n",
       "      <th>popularity</th>\n",
       "      <th>poster_path</th>\n",
       "      <th>tagline</th>\n",
       "      <th>genres</th>\n",
       "      <th>production_companies</th>\n",
       "      <th>production_countries</th>\n",
       "      <th>spoken_languages</th>\n",
       "      <th>keywords</th>\n",
       "    </tr>\n",
       "  </thead>\n",
       "  <tbody>\n",
       "    <tr>\n",
       "      <th>0</th>\n",
       "      <td>27205</td>\n",
       "      <td>Inception</td>\n",
       "      <td>8.364</td>\n",
       "      <td>34495</td>\n",
       "      <td>Released</td>\n",
       "      <td>2010-07-15</td>\n",
       "      <td>825532764</td>\n",
       "      <td>148</td>\n",
       "      <td>False</td>\n",
       "      <td>/8ZTVqvKDQ8emSGUEMjsS4yHAwrp.jpg</td>\n",
       "      <td>160000000</td>\n",
       "      <td>https://www.warnerbros.com/movies/inception</td>\n",
       "      <td>tt1375666</td>\n",
       "      <td>en</td>\n",
       "      <td>Inception</td>\n",
       "      <td>Cobb, a skilled thief who commits corporate es...</td>\n",
       "      <td>83.952</td>\n",
       "      <td>/oYuLEt3zVCKq57qu2F8dT7NIa6f.jpg</td>\n",
       "      <td>Your mind is the scene of the crime.</td>\n",
       "      <td>Action, Science Fiction, Adventure</td>\n",
       "      <td>Legendary Pictures, Syncopy, Warner Bros. Pict...</td>\n",
       "      <td>United Kingdom, United States of America</td>\n",
       "      <td>English, French, Japanese, Swahili</td>\n",
       "      <td>rescue, mission, dream, airplane, paris, franc...</td>\n",
       "    </tr>\n",
       "    <tr>\n",
       "      <th>1</th>\n",
       "      <td>157336</td>\n",
       "      <td>Interstellar</td>\n",
       "      <td>8.417</td>\n",
       "      <td>32571</td>\n",
       "      <td>Released</td>\n",
       "      <td>2014-11-05</td>\n",
       "      <td>701729206</td>\n",
       "      <td>169</td>\n",
       "      <td>False</td>\n",
       "      <td>/pbrkL804c8yAv3zBZR4QPEafpAR.jpg</td>\n",
       "      <td>165000000</td>\n",
       "      <td>http://www.interstellarmovie.net/</td>\n",
       "      <td>tt0816692</td>\n",
       "      <td>en</td>\n",
       "      <td>Interstellar</td>\n",
       "      <td>The adventures of a group of explorers who mak...</td>\n",
       "      <td>140.241</td>\n",
       "      <td>/gEU2QniE6E77NI6lCU6MxlNBvIx.jpg</td>\n",
       "      <td>Mankind was born on Earth. It was never meant ...</td>\n",
       "      <td>Adventure, Drama, Science Fiction</td>\n",
       "      <td>Legendary Pictures, Syncopy, Lynda Obst Produc...</td>\n",
       "      <td>United Kingdom, United States of America</td>\n",
       "      <td>English</td>\n",
       "      <td>rescue, future, spacecraft, race against time,...</td>\n",
       "    </tr>\n",
       "    <tr>\n",
       "      <th>4</th>\n",
       "      <td>24428</td>\n",
       "      <td>The Avengers</td>\n",
       "      <td>7.710</td>\n",
       "      <td>29166</td>\n",
       "      <td>Released</td>\n",
       "      <td>2012-04-25</td>\n",
       "      <td>1518815515</td>\n",
       "      <td>143</td>\n",
       "      <td>False</td>\n",
       "      <td>/9BBTo63ANSmhC4e6r62OJFuK2GL.jpg</td>\n",
       "      <td>220000000</td>\n",
       "      <td>https://www.marvel.com/movies/the-avengers</td>\n",
       "      <td>tt0848228</td>\n",
       "      <td>en</td>\n",
       "      <td>The Avengers</td>\n",
       "      <td>When an unexpected enemy emerges and threatens...</td>\n",
       "      <td>98.082</td>\n",
       "      <td>/RYMX2wcKCBAr24UyPD7xwmjaTn.jpg</td>\n",
       "      <td>Some assembly required.</td>\n",
       "      <td>Science Fiction, Action, Adventure</td>\n",
       "      <td>Marvel Studios</td>\n",
       "      <td>United States of America</td>\n",
       "      <td>English, Hindi, Russian</td>\n",
       "      <td>new york city, superhero, shield, based on com...</td>\n",
       "    </tr>\n",
       "    <tr>\n",
       "      <th>5</th>\n",
       "      <td>293660</td>\n",
       "      <td>Deadpool</td>\n",
       "      <td>7.606</td>\n",
       "      <td>28894</td>\n",
       "      <td>Released</td>\n",
       "      <td>2016-02-09</td>\n",
       "      <td>783100000</td>\n",
       "      <td>108</td>\n",
       "      <td>False</td>\n",
       "      <td>/en971MEXui9diirXlogOrPKmsEn.jpg</td>\n",
       "      <td>58000000</td>\n",
       "      <td>https://www.20thcenturystudios.com/movies/dead...</td>\n",
       "      <td>tt1431045</td>\n",
       "      <td>en</td>\n",
       "      <td>Deadpool</td>\n",
       "      <td>The origin story of former Special Forces oper...</td>\n",
       "      <td>72.735</td>\n",
       "      <td>/zq8Cl3PNIDGU3iWNRoc5nEZ6pCe.jpg</td>\n",
       "      <td>Witness the beginning of a happy ending.</td>\n",
       "      <td>Action, Adventure, Comedy</td>\n",
       "      <td>20th Century Fox, The Donners' Company, Genre ...</td>\n",
       "      <td>United States of America</td>\n",
       "      <td>English</td>\n",
       "      <td>superhero, anti hero, mercenary, based on comi...</td>\n",
       "    </tr>\n",
       "    <tr>\n",
       "      <th>6</th>\n",
       "      <td>299536</td>\n",
       "      <td>Avengers: Infinity War</td>\n",
       "      <td>8.255</td>\n",
       "      <td>27713</td>\n",
       "      <td>Released</td>\n",
       "      <td>2018-04-25</td>\n",
       "      <td>2052415039</td>\n",
       "      <td>149</td>\n",
       "      <td>False</td>\n",
       "      <td>/mDfJG3LC3Dqb67AZ52x3Z0jU0uB.jpg</td>\n",
       "      <td>300000000</td>\n",
       "      <td>https://www.marvel.com/movies/avengers-infinit...</td>\n",
       "      <td>tt4154756</td>\n",
       "      <td>en</td>\n",
       "      <td>Avengers: Infinity War</td>\n",
       "      <td>As the Avengers and their allies have continue...</td>\n",
       "      <td>154.340</td>\n",
       "      <td>/7WsyChQLEftFiDOVTGkv3hFpyyt.jpg</td>\n",
       "      <td>An entire universe. Once and for all.</td>\n",
       "      <td>Adventure, Action, Science Fiction</td>\n",
       "      <td>Marvel Studios</td>\n",
       "      <td>United States of America</td>\n",
       "      <td>English, Xhosa</td>\n",
       "      <td>sacrifice, magic, superhero, based on comic, s...</td>\n",
       "    </tr>\n",
       "    <tr>\n",
       "      <th>8</th>\n",
       "      <td>118340</td>\n",
       "      <td>Guardians of the Galaxy</td>\n",
       "      <td>7.906</td>\n",
       "      <td>26638</td>\n",
       "      <td>Released</td>\n",
       "      <td>2014-07-30</td>\n",
       "      <td>772776600</td>\n",
       "      <td>121</td>\n",
       "      <td>False</td>\n",
       "      <td>/uLtVbjvS1O7gXL8lUOwsFOH4man.jpg</td>\n",
       "      <td>170000000</td>\n",
       "      <td>http://marvel.com/guardians</td>\n",
       "      <td>tt2015381</td>\n",
       "      <td>en</td>\n",
       "      <td>Guardians of the Galaxy</td>\n",
       "      <td>Light years from Earth, 26 years after being a...</td>\n",
       "      <td>33.255</td>\n",
       "      <td>/r7vmZjiyZw9rpJMQJdXpjgiCOk9.jpg</td>\n",
       "      <td>All heroes start somewhere.</td>\n",
       "      <td>Action, Science Fiction, Adventure</td>\n",
       "      <td>Marvel Studios</td>\n",
       "      <td>United States of America</td>\n",
       "      <td>English</td>\n",
       "      <td>spacecraft, based on comic, space, orphan, adv...</td>\n",
       "    </tr>\n",
       "    <tr>\n",
       "      <th>13</th>\n",
       "      <td>68718</td>\n",
       "      <td>Django Unchained</td>\n",
       "      <td>8.171</td>\n",
       "      <td>24672</td>\n",
       "      <td>Released</td>\n",
       "      <td>2012-12-25</td>\n",
       "      <td>425368238</td>\n",
       "      <td>165</td>\n",
       "      <td>False</td>\n",
       "      <td>/5Lbm0gpFDRAPIV1Cth6ln9iL1ou.jpg</td>\n",
       "      <td>100000000</td>\n",
       "      <td>http://www.unchainedmovie.com</td>\n",
       "      <td>tt1853728</td>\n",
       "      <td>en</td>\n",
       "      <td>Django Unchained</td>\n",
       "      <td>With the help of a German bounty hunter, a fre...</td>\n",
       "      <td>54.224</td>\n",
       "      <td>/7oWY8VDWW7thTzWh3OKYRkWUlD5.jpg</td>\n",
       "      <td>Life, liberty and the pursuit of vengeance.</td>\n",
       "      <td>Drama, Western</td>\n",
       "      <td>The Weinstein Company, Columbia Pictures</td>\n",
       "      <td>United States of America</td>\n",
       "      <td>English, French, German</td>\n",
       "      <td>rescue, friendship, bounty hunter, texas, slav...</td>\n",
       "    </tr>\n",
       "  </tbody>\n",
       "</table>\n",
       "</div>"
      ],
      "text/plain": [
       "        id                    title  vote_average  vote_count    status  \\\n",
       "0    27205                Inception         8.364       34495  Released   \n",
       "1   157336             Interstellar         8.417       32571  Released   \n",
       "4    24428             The Avengers         7.710       29166  Released   \n",
       "5   293660                 Deadpool         7.606       28894  Released   \n",
       "6   299536   Avengers: Infinity War         8.255       27713  Released   \n",
       "8   118340  Guardians of the Galaxy         7.906       26638  Released   \n",
       "13   68718         Django Unchained         8.171       24672  Released   \n",
       "\n",
       "   release_date     revenue  runtime  adult                     backdrop_path  \\\n",
       "0    2010-07-15   825532764      148  False  /8ZTVqvKDQ8emSGUEMjsS4yHAwrp.jpg   \n",
       "1    2014-11-05   701729206      169  False  /pbrkL804c8yAv3zBZR4QPEafpAR.jpg   \n",
       "4    2012-04-25  1518815515      143  False  /9BBTo63ANSmhC4e6r62OJFuK2GL.jpg   \n",
       "5    2016-02-09   783100000      108  False  /en971MEXui9diirXlogOrPKmsEn.jpg   \n",
       "6    2018-04-25  2052415039      149  False  /mDfJG3LC3Dqb67AZ52x3Z0jU0uB.jpg   \n",
       "8    2014-07-30   772776600      121  False  /uLtVbjvS1O7gXL8lUOwsFOH4man.jpg   \n",
       "13   2012-12-25   425368238      165  False  /5Lbm0gpFDRAPIV1Cth6ln9iL1ou.jpg   \n",
       "\n",
       "       budget                                           homepage    imdb_id  \\\n",
       "0   160000000        https://www.warnerbros.com/movies/inception  tt1375666   \n",
       "1   165000000                  http://www.interstellarmovie.net/  tt0816692   \n",
       "4   220000000         https://www.marvel.com/movies/the-avengers  tt0848228   \n",
       "5    58000000  https://www.20thcenturystudios.com/movies/dead...  tt1431045   \n",
       "6   300000000  https://www.marvel.com/movies/avengers-infinit...  tt4154756   \n",
       "8   170000000                        http://marvel.com/guardians  tt2015381   \n",
       "13  100000000                      http://www.unchainedmovie.com  tt1853728   \n",
       "\n",
       "   original_language           original_title  \\\n",
       "0                 en                Inception   \n",
       "1                 en             Interstellar   \n",
       "4                 en             The Avengers   \n",
       "5                 en                 Deadpool   \n",
       "6                 en   Avengers: Infinity War   \n",
       "8                 en  Guardians of the Galaxy   \n",
       "13                en         Django Unchained   \n",
       "\n",
       "                                             overview  popularity  \\\n",
       "0   Cobb, a skilled thief who commits corporate es...      83.952   \n",
       "1   The adventures of a group of explorers who mak...     140.241   \n",
       "4   When an unexpected enemy emerges and threatens...      98.082   \n",
       "5   The origin story of former Special Forces oper...      72.735   \n",
       "6   As the Avengers and their allies have continue...     154.340   \n",
       "8   Light years from Earth, 26 years after being a...      33.255   \n",
       "13  With the help of a German bounty hunter, a fre...      54.224   \n",
       "\n",
       "                         poster_path  \\\n",
       "0   /oYuLEt3zVCKq57qu2F8dT7NIa6f.jpg   \n",
       "1   /gEU2QniE6E77NI6lCU6MxlNBvIx.jpg   \n",
       "4    /RYMX2wcKCBAr24UyPD7xwmjaTn.jpg   \n",
       "5   /zq8Cl3PNIDGU3iWNRoc5nEZ6pCe.jpg   \n",
       "6   /7WsyChQLEftFiDOVTGkv3hFpyyt.jpg   \n",
       "8   /r7vmZjiyZw9rpJMQJdXpjgiCOk9.jpg   \n",
       "13  /7oWY8VDWW7thTzWh3OKYRkWUlD5.jpg   \n",
       "\n",
       "                                              tagline  \\\n",
       "0                Your mind is the scene of the crime.   \n",
       "1   Mankind was born on Earth. It was never meant ...   \n",
       "4                             Some assembly required.   \n",
       "5            Witness the beginning of a happy ending.   \n",
       "6               An entire universe. Once and for all.   \n",
       "8                         All heroes start somewhere.   \n",
       "13        Life, liberty and the pursuit of vengeance.   \n",
       "\n",
       "                                genres  \\\n",
       "0   Action, Science Fiction, Adventure   \n",
       "1    Adventure, Drama, Science Fiction   \n",
       "4   Science Fiction, Action, Adventure   \n",
       "5            Action, Adventure, Comedy   \n",
       "6   Adventure, Action, Science Fiction   \n",
       "8   Action, Science Fiction, Adventure   \n",
       "13                      Drama, Western   \n",
       "\n",
       "                                 production_companies  \\\n",
       "0   Legendary Pictures, Syncopy, Warner Bros. Pict...   \n",
       "1   Legendary Pictures, Syncopy, Lynda Obst Produc...   \n",
       "4                                      Marvel Studios   \n",
       "5   20th Century Fox, The Donners' Company, Genre ...   \n",
       "6                                      Marvel Studios   \n",
       "8                                      Marvel Studios   \n",
       "13           The Weinstein Company, Columbia Pictures   \n",
       "\n",
       "                        production_countries  \\\n",
       "0   United Kingdom, United States of America   \n",
       "1   United Kingdom, United States of America   \n",
       "4                   United States of America   \n",
       "5                   United States of America   \n",
       "6                   United States of America   \n",
       "8                   United States of America   \n",
       "13                  United States of America   \n",
       "\n",
       "                      spoken_languages  \\\n",
       "0   English, French, Japanese, Swahili   \n",
       "1                              English   \n",
       "4              English, Hindi, Russian   \n",
       "5                              English   \n",
       "6                       English, Xhosa   \n",
       "8                              English   \n",
       "13             English, French, German   \n",
       "\n",
       "                                             keywords  \n",
       "0   rescue, mission, dream, airplane, paris, franc...  \n",
       "1   rescue, future, spacecraft, race against time,...  \n",
       "4   new york city, superhero, shield, based on com...  \n",
       "5   superhero, anti hero, mercenary, based on comi...  \n",
       "6   sacrifice, magic, superhero, based on comic, s...  \n",
       "8   spacecraft, based on comic, space, orphan, adv...  \n",
       "13  rescue, friendship, bounty hunter, texas, slav...  "
      ]
     },
     "execution_count": 10,
     "metadata": {},
     "output_type": "execute_result"
    }
   ],
   "source": [
    "movies_df.head(7)"
   ]
  },
  {
   "cell_type": "code",
   "execution_count": 11,
   "id": "fb7dea58-8cc8-40be-a742-f9f0d1a82d07",
   "metadata": {},
   "outputs": [
    {
     "name": "stdout",
     "output_type": "stream",
     "text": [
      "id                        int64\n",
      "title                    object\n",
      "vote_average            float64\n",
      "vote_count                int64\n",
      "status                   object\n",
      "release_date             object\n",
      "revenue                   int64\n",
      "runtime                   int64\n",
      "adult                      bool\n",
      "backdrop_path            object\n",
      "budget                    int64\n",
      "homepage                 object\n",
      "imdb_id                  object\n",
      "original_language        object\n",
      "original_title           object\n",
      "overview                 object\n",
      "popularity              float64\n",
      "poster_path              object\n",
      "tagline                  object\n",
      "genres                   object\n",
      "production_companies     object\n",
      "production_countries     object\n",
      "spoken_languages         object\n",
      "keywords                 object\n",
      "dtype: object\n"
     ]
    }
   ],
   "source": [
    "#checking datatypes of each column to ensure consistency of column dtypes with data they contain\n",
    "print(movies_df.dtypes)"
   ]
  },
  {
   "cell_type": "code",
   "execution_count": 12,
   "id": "a3d73750-df8d-4514-9e85-9b0757743c6f",
   "metadata": {},
   "outputs": [],
   "source": [
    "#from the dtypes only the release_date is inconsistent with the content of the column\n",
    "#converting release_date to DateTime\n",
    "movies_df['release_date']= pd.to_datetime(movies_df['release_date'])"
   ]
  },
  {
   "cell_type": "code",
   "execution_count": 13,
   "id": "d8d244e2-3e07-4fca-9d56-c6cb2b8e5bd5",
   "metadata": {},
   "outputs": [
    {
     "name": "stdout",
     "output_type": "stream",
     "text": [
      "datetime64[ns]\n"
     ]
    }
   ],
   "source": [
    "print(movies_df['release_date'].dtypes)"
   ]
  },
  {
   "cell_type": "markdown",
   "id": "08fa6aa4-acb2-481d-a580-7ac2eadfd042",
   "metadata": {},
   "source": [
    "**Dropping columns not needed for this analysis and not needed when handling missing data**"
   ]
  },
  {
   "cell_type": "code",
   "execution_count": 14,
   "id": "ce0898f3-5f7a-4ca8-a975-a8081ffcfbce",
   "metadata": {},
   "outputs": [],
   "source": [
    "movies_df= movies_df.drop(['backdrop_path','imdb_id','poster_path','keywords','tagline','id'], axis=1)"
   ]
  },
  {
   "cell_type": "markdown",
   "id": "3b0695c4-88c5-47c9-8471-69208f2c54b5",
   "metadata": {},
   "source": [
    "*Columns left are either needed for the analysis or are seen to contain information that might be needed when handling missing data, many of these columns however, will be dropped subsequently after handling missing data.*"
   ]
  },
  {
   "cell_type": "code",
   "execution_count": 15,
   "id": "95f34bd7-3eeb-4553-ac7a-9a947a09786f",
   "metadata": {},
   "outputs": [],
   "source": [
    "#dropping duplicate rows \n",
    "movies_df= movies_df.drop_duplicates()"
   ]
  },
  {
   "cell_type": "code",
   "execution_count": 16,
   "id": "cd391e7e-dbe5-4728-a91a-c084774e450f",
   "metadata": {},
   "outputs": [],
   "source": [
    "movies_df2=movies_df.copy()"
   ]
  },
  {
   "cell_type": "markdown",
   "id": "8805418a-2bad-4561-8e91-ab14c88565bb",
   "metadata": {},
   "source": [
    "**Resolving missing data, inconsistent data and dropping unwanted rows**"
   ]
  },
  {
   "cell_type": "code",
   "execution_count": 17,
   "id": "277634e7-cbe9-4177-89e0-ef889e7f0763",
   "metadata": {},
   "outputs": [
    {
     "name": "stdout",
     "output_type": "stream",
     "text": [
      "title                       0\n",
      "vote_average                0\n",
      "vote_count                  0\n",
      "status                      0\n",
      "release_date                0\n",
      "revenue                     0\n",
      "runtime                     0\n",
      "adult                       0\n",
      "budget                      0\n",
      "homepage                72576\n",
      "original_language           0\n",
      "original_title              0\n",
      "overview                 2424\n",
      "popularity                  0\n",
      "genres                  31129\n",
      "production_companies    24040\n",
      "production_countries        0\n",
      "spoken_languages        20989\n",
      "dtype: int64\n"
     ]
    }
   ],
   "source": [
    "#summing missing data per column\n",
    "print(movies_df.isnull().sum())"
   ]
  },
  {
   "cell_type": "code",
   "execution_count": 18,
   "id": "457c39de-3c44-41f3-8db7-d737d748d6ea",
   "metadata": {},
   "outputs": [
    {
     "name": "stdout",
     "output_type": "stream",
     "text": [
      "budget          89369\n",
      "vote_average    54364\n",
      "vote_count      54325\n",
      "revenue         96471\n",
      "runtime          6479\n",
      "dtype: int64\n"
     ]
    }
   ],
   "source": [
    "#checking number of 0s contained in columns with integer or float dtype\n",
    "print(movies_df[['budget', 'vote_average', 'vote_count', 'revenue', 'runtime']].eq(0).sum())\n"
   ]
  },
  {
   "cell_type": "markdown",
   "id": "22b46be0-75c7-4d55-95e6-a9e6fbc604a1",
   "metadata": {},
   "source": [
    "*Vote_average, budget, revenue on closer look contain lots of 0s which are considered missing values in this analysis,\n",
    "given the importance of these columns in the dataset and large number of rows with 0s, \n",
    "substituting the missing numbers with statistical values will lead to mispresenation of data and error,\n",
    "therefore, rows with 0 revenue, 0 vote_average and 0 budget are dropped to reduce data volume and ensure data integrity.\n",
    "these are not treated as missing data, rather as information that will hamper data integrity.*"
   ]
  },
  {
   "cell_type": "code",
   "execution_count": 19,
   "id": "b180be4d-ebbb-43e9-ad19-9165302d72ce",
   "metadata": {},
   "outputs": [],
   "source": [
    "movies_df2=movies_df.copy()"
   ]
  },
  {
   "cell_type": "code",
   "execution_count": 20,
   "id": "7a6b6d42-5b32-4e82-8054-efa19c35e3a0",
   "metadata": {},
   "outputs": [],
   "source": [
    "movies_df = movies_df.drop(movies_df[(movies_df['revenue'] == 0) | (movies_df['budget'] == 0)|(movies_df['vote_average'] == 0)].index)"
   ]
  },
  {
   "cell_type": "markdown",
   "id": "3d766687-1554-430a-ba05-a962b0135508",
   "metadata": {},
   "source": [
    "*Homepage, overview,original_title and spoken_languages are only considered valuable for handling missing data in this dataset, \n",
    "therefore missing data contained within them will not be resolved.*\n"
   ]
  },
  {
   "cell_type": "markdown",
   "id": "898c0a38-23ec-4ed2-95d9-3ead84d68b3f",
   "metadata": {},
   "source": [
    "*Some rows are seen to contain trailers, wrestling clips, adult content and youtube skits with common identifiable tags and runtime lower than 15mins, these are considered unwanted for these analysis,\n",
    "these are dropped filtering by the tags and by runtime*"
   ]
  },
  {
   "cell_type": "code",
   "execution_count": 21,
   "id": "c2edc9ca-85bf-4263-ab53-5aaa34972210",
   "metadata": {},
   "outputs": [],
   "source": [
    "# Dropping rows containing wrestling videos (case insensitive) using their various unique production_company tags\n",
    "movies_df = movies_df[~movies_df['production_companies'].str.contains('queens of combat|wsu|wwe|wrestle|wrestling|ctRl|fight', case=False, na=False)]"
   ]
  },
  {
   "cell_type": "code",
   "execution_count": 22,
   "id": "aa5a0dc4-875b-4903-837a-362f2ec6320c",
   "metadata": {},
   "outputs": [],
   "source": [
    "#dropping rows with runtime lower than 15mins\n",
    "movies_df = movies_df[movies_df['runtime'] >= 15]"
   ]
  },
  {
   "cell_type": "code",
   "execution_count": 23,
   "id": "6c29c528-59f6-41b1-a7ac-e35e7291fddb",
   "metadata": {},
   "outputs": [
    {
     "name": "stdout",
     "output_type": "stream",
     "text": [
      "2384\n"
     ]
    }
   ],
   "source": [
    "print(len(movies_df))"
   ]
  },
  {
   "cell_type": "markdown",
   "id": "bd29e054-fc6d-4a4f-9a78-f0a3dfb489cc",
   "metadata": {},
   "source": [
    "*Vote_average is seen to be the movie viewer rating calculated relative to the vote_count, vote_count being the number of votes made per movie\n",
    "I dropped vote counts less than 3 to ensure a more reliable and representative rating system. \n",
    "With very few votes, ratings can be easily skewed by individual biases or outliers, leading to inaccurate representations of a movie's quality. \n",
    "By setting a minimum threshold of 5 votes, I increase confidence in the ratings, enable fairer comparisons, and include movies with low but meaningful engagement*"
   ]
  },
  {
   "cell_type": "code",
   "execution_count": 24,
   "id": "f99d2bc8-5934-49d0-bcd7-8cf292924a3c",
   "metadata": {},
   "outputs": [],
   "source": [
    "movies_df = movies_df[movies_df['vote_count'] >= 5]"
   ]
  },
  {
   "cell_type": "code",
   "execution_count": 25,
   "id": "59d9ecf7-46eb-4bc6-8a80-9fbcc58efa98",
   "metadata": {},
   "outputs": [
    {
     "name": "stdout",
     "output_type": "stream",
     "text": [
      "2283\n"
     ]
    }
   ],
   "source": [
    "print(len(movies_df))"
   ]
  },
  {
   "cell_type": "code",
   "execution_count": 26,
   "id": "e099256a-1410-43f7-a55c-84ef877fb949",
   "metadata": {},
   "outputs": [],
   "source": [
    "pd.set_option('display.max_rows', None)\n",
    "pd.set_option('display.max_columns', None)"
   ]
  },
  {
   "cell_type": "code",
   "execution_count": 27,
   "id": "664c5551-c87b-48a2-b1e4-20cff0231a0a",
   "metadata": {},
   "outputs": [
    {
     "name": "stdout",
     "output_type": "stream",
     "text": [
      "title                     0\n",
      "vote_average              0\n",
      "vote_count                0\n",
      "status                    0\n",
      "release_date              0\n",
      "revenue                   0\n",
      "runtime                   0\n",
      "adult                     0\n",
      "budget                    0\n",
      "homepage                685\n",
      "original_language         0\n",
      "original_title            0\n",
      "overview                  1\n",
      "popularity                0\n",
      "genres                    0\n",
      "production_companies     10\n",
      "production_countries      0\n",
      "spoken_languages          3\n",
      "dtype: int64\n"
     ]
    }
   ],
   "source": [
    "#Confirming columns still with missing data\n",
    "print(movies_df.isnull().sum())"
   ]
  },
  {
   "cell_type": "code",
   "execution_count": 28,
   "id": "919e11b8-c0da-4eb9-ace0-0c52ac61e385",
   "metadata": {},
   "outputs": [
    {
     "name": "stdout",
     "output_type": "stream",
     "text": [
      "                         title\n",
      "18458          Lost in the Sun\n",
      "21957          The Killing Jar\n",
      "25955               Repentance\n",
      "29031    2016: Obama's America\n",
      "29618            Higher Ground\n",
      "30614  Saint John of Las Vegas\n",
      "32406           Crooked Arrows\n",
      "36530       Meet Monica Velour\n",
      "39713            The Afflicted\n",
      "67596         American Dresser\n"
     ]
    }
   ],
   "source": [
    "#printing titles of movies with missing 'production_companies'\n",
    "print(movies_df[movies_df['production_companies'].isnull()][['title']])"
   ]
  },
  {
   "cell_type": "markdown",
   "id": "91e7553e-5d47-419a-810c-d165713d7019",
   "metadata": {},
   "source": [
    "*Missing 'Production_companies' are manually replaced with corresponding data obtained, verified and confirmed from trusted sources.\n",
    "Where correct and verfied corresponding data are not found, 'Unknown' is used*"
   ]
  },
  {
   "cell_type": "code",
   "execution_count": 29,
   "id": "57bb114c-4aa8-4ea5-b2be-d93978a41d2e",
   "metadata": {},
   "outputs": [],
   "source": [
    "# creating a dictionary from the list of companies manually gathered\n",
    "production_companies_dict = {\n",
    "    \"Lost in the Sun\": \"Floren Shieh Productions\",\n",
    "    \"The Killing Jar\": \"Morningstar Pictures\",\n",
    "    \"Repentance\": \"Codeblack Films, JuntoBox Films\",\n",
    "    \"Saint John of Las Vegas\": \"IndieVest Pictures, Circle of Confusion\",\n",
    "    \"Crooked Arrows\": \"Sports Studio\"}"
   ]
  },
  {
   "cell_type": "code",
   "execution_count": 30,
   "id": "84507b5e-9b13-4756-93fe-12cdbda7200f",
   "metadata": {},
   "outputs": [],
   "source": [
    "# Replacing NaN rows in production_companies column with known production companies\n",
    "movies_df.loc[movies_df['title'].isin(production_companies_dict.keys()), 'production_companies'] = movies_df['title'].map(production_companies_dict)"
   ]
  },
  {
   "cell_type": "code",
   "execution_count": 32,
   "id": "16b1d54c-639f-45a1-9048-ba44516bc154",
   "metadata": {},
   "outputs": [],
   "source": [
    "#Replacing unverified Production company missing rows with 'Unknown'\n",
    "movies_df['production_companies'] = movies_df['production_companies'].fillna('Unknown')"
   ]
  },
  {
   "cell_type": "code",
   "execution_count": 33,
   "id": "3e892390-ecd3-4831-bfe6-dc5a81381166",
   "metadata": {},
   "outputs": [
    {
     "name": "stdout",
     "output_type": "stream",
     "text": [
      "title                     0\n",
      "vote_average              0\n",
      "vote_count                0\n",
      "status                    0\n",
      "release_date              0\n",
      "revenue                   0\n",
      "runtime                   0\n",
      "adult                     0\n",
      "budget                    0\n",
      "homepage                685\n",
      "original_language         0\n",
      "original_title            0\n",
      "overview                  1\n",
      "popularity                0\n",
      "genres                    0\n",
      "production_companies      0\n",
      "production_countries      0\n",
      "spoken_languages          3\n",
      "dtype: int64\n"
     ]
    }
   ],
   "source": [
    "print(movies_df.isnull().sum())"
   ]
  },
  {
   "cell_type": "code",
   "execution_count": 33,
   "id": "5bda9b0d-fc01-4979-b0cd-bceeca03a078",
   "metadata": {},
   "outputs": [
    {
     "name": "stdout",
     "output_type": "stream",
     "text": [
      "['en' 'ko' 'es' 'id' 'fr' 'ja' 'it' 'ar' 'pl' 'fi' 'hi' 'da' 'ru' 'de'\n",
      " 'th' 'he' 'ml' 'ur']\n"
     ]
    }
   ],
   "source": [
    "print(movies_df['original_language'].unique())"
   ]
  },
  {
   "cell_type": "markdown",
   "id": "76c582c9-a14b-4308-94b7-579ce84a05d2",
   "metadata": {},
   "source": [
    "*writing 'original_language' in full with data manually obtained from the 'spoken_languages' column*"
   ]
  },
  {
   "cell_type": "code",
   "execution_count": 34,
   "id": "b5586541-1307-4b9d-a7dd-607d3b4c1c04",
   "metadata": {},
   "outputs": [],
   "source": [
    "language_map = {\n",
    "    'ko': 'Korean',\n",
    "    'es': 'Spanish',\n",
    "    'id': 'Indonesian',\n",
    "    'fr': 'French',\n",
    "    'ja': 'Japanese',\n",
    "    'it': 'Italian',\n",
    "    'fi': 'Finnish',\n",
    "    'ar': 'Arabic',\n",
    "    'pl': 'Polish',\n",
    "    'hi': 'Hindi',\n",
    "    'da': 'Danish',\n",
    "    'ru': 'Russian',\n",
    "    'de': 'German',\n",
    "    'th': 'Thai',\n",
    "    'he': 'Hebrew',\n",
    "    'ml': 'Malayalam',\n",
    "    'ur': 'Urdu',\n",
    "    'en': 'English'\n",
    "}\n",
    "\n",
    "movies_df['original_language'] = movies_df['original_language'].map(language_map)"
   ]
  },
  {
   "cell_type": "code",
   "execution_count": 35,
   "id": "bc6c5919-275f-47a9-98b3-c98ed62c3274",
   "metadata": {},
   "outputs": [
    {
     "name": "stdout",
     "output_type": "stream",
     "text": [
      "['English' 'Korean' 'Spanish' 'Indonesian' 'French' 'Japanese' 'Italian'\n",
      " 'Arabic' 'Polish' 'Finnish' 'Hindi' 'Danish' 'Russian' 'German' 'Thai'\n",
      " 'Hebrew' 'Malayalam' 'Urdu']\n"
     ]
    }
   ],
   "source": [
    "print(movies_df['original_language'].unique())"
   ]
  },
  {
   "cell_type": "code",
   "execution_count": 36,
   "id": "4fb11d78-906d-4539-a5dd-e45ec2ddc7e8",
   "metadata": {},
   "outputs": [],
   "source": [
    "#filling missing languages in spoken_languages column\n",
    "movies_df['spoken_languages'] = movies_df['spoken_languages'].fillna(movies_df['original_language'])"
   ]
  },
  {
   "cell_type": "code",
   "execution_count": 37,
   "id": "e59e5200-e8d8-4cf5-981f-1526ceefa5fa",
   "metadata": {},
   "outputs": [
    {
     "name": "stdout",
     "output_type": "stream",
     "text": [
      "2283\n"
     ]
    }
   ],
   "source": [
    "print(len(movies_df))"
   ]
  },
  {
   "cell_type": "code",
   "execution_count": 38,
   "id": "dc1c1661-9d60-43bd-ad8d-4fd304f09a42",
   "metadata": {},
   "outputs": [],
   "source": [
    "movies_df2= movies_df.copy()"
   ]
  },
  {
   "cell_type": "markdown",
   "id": "61b4b04e-dd37-4fd3-9225-f192f5a01dcd",
   "metadata": {},
   "source": [
    "**Creating release_year and release_month columns off the release_date column for ease in analysis**"
   ]
  },
  {
   "cell_type": "code",
   "execution_count": 39,
   "id": "e5b7eb87-1015-46a2-bb02-449a38bbb2c8",
   "metadata": {},
   "outputs": [
    {
     "name": "stdout",
     "output_type": "stream",
     "text": [
      "   release_year  release_month\n",
      "0          2010              7\n",
      "1          2014             11\n",
      "4          2012              4\n",
      "5          2016              2\n",
      "6          2018              4\n"
     ]
    }
   ],
   "source": [
    "movies_df['release_month'] = movies_df['release_date'].dt.month\n",
    "movies_df['release_year'] = movies_df['release_date'].dt.year\n",
    "print(movies_df[['release_year','release_month']].head(5))"
   ]
  },
  {
   "cell_type": "code",
   "execution_count": 40,
   "id": "81cba51d-2075-4cc9-9be9-d5f126c36799",
   "metadata": {},
   "outputs": [
    {
     "name": "stdout",
     "output_type": "stream",
     "text": [
      "  release_month\n",
      "0          July\n",
      "1      November\n",
      "4         April\n",
      "5      February\n",
      "6         April\n"
     ]
    }
   ],
   "source": [
    "#formatting the month as a fully writen month name\n",
    "movies_df['release_month'] = movies_df['release_date'].dt.strftime('%B')\n",
    "print(movies_df[['release_month']].head(5))"
   ]
  },
  {
   "cell_type": "code",
   "execution_count": 41,
   "id": "21da71e0-6b87-4fdd-9bc5-6d26b08716f0",
   "metadata": {},
   "outputs": [],
   "source": [
    "movies_df2=movies_df.copy()"
   ]
  },
  {
   "cell_type": "markdown",
   "id": "c340d1f2-ac59-4327-9efc-aa9302391ebf",
   "metadata": {},
   "source": [
    "**Dropping more unneeded columns previously used in filling missing data**"
   ]
  },
  {
   "cell_type": "code",
   "execution_count": 42,
   "id": "52b28a04-ae08-470e-b971-f661fb08ae3a",
   "metadata": {},
   "outputs": [],
   "source": [
    "movies_df = movies_df.drop(['vote_count', 'status', 'homepage', 'original_title', 'overview','release_date','adult'], axis=1)\n"
   ]
  },
  {
   "cell_type": "markdown",
   "id": "9b911ee0-3dd9-4a52-9b0c-587bfbbb2876",
   "metadata": {},
   "source": [
    "**Renaming columns**"
   ]
  },
  {
   "cell_type": "code",
   "execution_count": 53,
   "id": "c8574266-05b8-4f14-b8be-d6ae334a5f93",
   "metadata": {},
   "outputs": [],
   "source": [
    "movies_df = movies_df.rename(columns={\n",
    "    'original_language': 'Language',\n",
    "    'spoken_languages': 'Spoken Languages',\n",
    "    'release_year': 'Release Year',\n",
    "    'production_companies': 'Production Companies',\n",
    "    'budget': 'Production Budget(USD)',\n",
    "    'revenue': 'Revenue(USD)',\n",
    "    'release_month':'Release Month',\n",
    "    'title':'Title',\n",
    "    'vote_average':'Average Rating',\n",
    "    'runtime':'Run Time(Mins)',\n",
    "    'popularity':'Popularity',\n",
    "    'genres':'Genres',\n",
    "    'production_countries':'Production Countries'\n",
    "    \n",
    "})"
   ]
  },
  {
   "cell_type": "markdown",
   "id": "b6b76be0-aca4-4cdd-91b4-a3f4d00fe73b",
   "metadata": {},
   "source": [
    "**Final reformatting of table**"
   ]
  },
  {
   "cell_type": "code",
   "execution_count": 54,
   "id": "338f439d-6175-425a-be74-87a38ae2785f",
   "metadata": {},
   "outputs": [
    {
     "data": {
      "text/html": [
       "<div>\n",
       "<style scoped>\n",
       "    .dataframe tbody tr th:only-of-type {\n",
       "        vertical-align: middle;\n",
       "    }\n",
       "\n",
       "    .dataframe tbody tr th {\n",
       "        vertical-align: top;\n",
       "    }\n",
       "\n",
       "    .dataframe thead th {\n",
       "        text-align: right;\n",
       "    }\n",
       "</style>\n",
       "<table border=\"1\" class=\"dataframe\">\n",
       "  <thead>\n",
       "    <tr style=\"text-align: right;\">\n",
       "      <th></th>\n",
       "      <th>Title</th>\n",
       "      <th>Release Year</th>\n",
       "      <th>Release Month</th>\n",
       "      <th>Run Time(Mins)</th>\n",
       "      <th>Production Budget(USD)</th>\n",
       "      <th>Revenue(USD)</th>\n",
       "      <th>Average Rating</th>\n",
       "      <th>Popularity</th>\n",
       "      <th>Genres</th>\n",
       "      <th>Language</th>\n",
       "      <th>Spoken Languages</th>\n",
       "      <th>Production Companies</th>\n",
       "      <th>Production Countries</th>\n",
       "    </tr>\n",
       "  </thead>\n",
       "  <tbody>\n",
       "  </tbody>\n",
       "</table>\n",
       "</div>"
      ],
      "text/plain": [
       "Empty DataFrame\n",
       "Columns: [Title, Release Year, Release Month, Run Time(Mins), Production Budget(USD), Revenue(USD), Average Rating, Popularity, Genres, Language, Spoken Languages, Production Companies, Production Countries]\n",
       "Index: []"
      ]
     },
     "execution_count": 54,
     "metadata": {},
     "output_type": "execute_result"
    }
   ],
   "source": [
    "#reordering the columns\n",
    "movies_df = movies_df[['Title',\n",
    "                       'Release Year',\n",
    "                       'Release Month',\n",
    "                       'Run Time(Mins)',\n",
    "                       'Production Budget(USD)',\n",
    "                       'Revenue(USD)',\n",
    "                       'Average Rating',\n",
    "                       'Popularity',\n",
    "                       'Genres',\n",
    "                       'Language',\n",
    "                       'Spoken Languages',\n",
    "                       'Production Companies',\n",
    "                       'Production Countries']]\n",
    "movies_df.head(0)"
   ]
  },
  {
   "cell_type": "markdown",
   "id": "2d0bf577-330f-4070-9ba5-8a580987d2d3",
   "metadata": {},
   "source": [
    "**Resetting Index**"
   ]
  },
  {
   "cell_type": "code",
   "execution_count": 49,
   "id": "becd8561-8d23-4c99-95c0-147b9859f101",
   "metadata": {},
   "outputs": [],
   "source": [
    "movies_df = movies_df.reset_index(drop=True)"
   ]
  },
  {
   "cell_type": "code",
   "execution_count": 51,
   "id": "4c30944d-1773-4a99-90b9-7d061011518d",
   "metadata": {},
   "outputs": [],
   "source": [
    "#setting index to start from 1\n",
    "movies_df = movies_df.set_index(movies_df.index + 1)"
   ]
  },
  {
   "cell_type": "code",
   "execution_count": 52,
   "id": "7835ad1f-8cab-4914-b41e-9355fac6d056",
   "metadata": {},
   "outputs": [
    {
     "data": {
      "text/html": [
       "<div>\n",
       "<style scoped>\n",
       "    .dataframe tbody tr th:only-of-type {\n",
       "        vertical-align: middle;\n",
       "    }\n",
       "\n",
       "    .dataframe tbody tr th {\n",
       "        vertical-align: top;\n",
       "    }\n",
       "\n",
       "    .dataframe thead th {\n",
       "        text-align: right;\n",
       "    }\n",
       "</style>\n",
       "<table border=\"1\" class=\"dataframe\">\n",
       "  <thead>\n",
       "    <tr style=\"text-align: right;\">\n",
       "      <th></th>\n",
       "      <th>Title</th>\n",
       "      <th>Release Year</th>\n",
       "      <th>Release Month</th>\n",
       "      <th>Run Time(Mins)</th>\n",
       "      <th>Production Budget(USD)</th>\n",
       "      <th>Revenue(USD)</th>\n",
       "      <th>Average Rating</th>\n",
       "      <th>Popularity</th>\n",
       "      <th>Genres</th>\n",
       "      <th>Language</th>\n",
       "      <th>Spoken Languages</th>\n",
       "      <th>Production Companies</th>\n",
       "      <th>Production Countries</th>\n",
       "    </tr>\n",
       "  </thead>\n",
       "  <tbody>\n",
       "    <tr>\n",
       "      <th>1</th>\n",
       "      <td>Inception</td>\n",
       "      <td>2010</td>\n",
       "      <td>July</td>\n",
       "      <td>148</td>\n",
       "      <td>160000000</td>\n",
       "      <td>825532764</td>\n",
       "      <td>8.36</td>\n",
       "      <td>83.95</td>\n",
       "      <td>Action, Science Fiction, Adventure</td>\n",
       "      <td>English</td>\n",
       "      <td>English, French, Japanese, Swahili</td>\n",
       "      <td>Legendary Pictures, Syncopy, Warner Bros. Pict...</td>\n",
       "      <td>United Kingdom, United States of America</td>\n",
       "    </tr>\n",
       "    <tr>\n",
       "      <th>2</th>\n",
       "      <td>Interstellar</td>\n",
       "      <td>2014</td>\n",
       "      <td>November</td>\n",
       "      <td>169</td>\n",
       "      <td>165000000</td>\n",
       "      <td>701729206</td>\n",
       "      <td>8.42</td>\n",
       "      <td>140.24</td>\n",
       "      <td>Adventure, Drama, Science Fiction</td>\n",
       "      <td>English</td>\n",
       "      <td>English</td>\n",
       "      <td>Legendary Pictures, Syncopy, Lynda Obst Produc...</td>\n",
       "      <td>United Kingdom, United States of America</td>\n",
       "    </tr>\n",
       "    <tr>\n",
       "      <th>3</th>\n",
       "      <td>The Avengers</td>\n",
       "      <td>2012</td>\n",
       "      <td>April</td>\n",
       "      <td>143</td>\n",
       "      <td>220000000</td>\n",
       "      <td>1518815515</td>\n",
       "      <td>7.71</td>\n",
       "      <td>98.08</td>\n",
       "      <td>Science Fiction, Action, Adventure</td>\n",
       "      <td>English</td>\n",
       "      <td>English, Hindi, Russian</td>\n",
       "      <td>Marvel Studios</td>\n",
       "      <td>United States of America</td>\n",
       "    </tr>\n",
       "    <tr>\n",
       "      <th>4</th>\n",
       "      <td>Deadpool</td>\n",
       "      <td>2016</td>\n",
       "      <td>February</td>\n",
       "      <td>108</td>\n",
       "      <td>58000000</td>\n",
       "      <td>783100000</td>\n",
       "      <td>7.61</td>\n",
       "      <td>72.74</td>\n",
       "      <td>Action, Adventure, Comedy</td>\n",
       "      <td>English</td>\n",
       "      <td>English</td>\n",
       "      <td>20th Century Fox, The Donners' Company, Genre ...</td>\n",
       "      <td>United States of America</td>\n",
       "    </tr>\n",
       "    <tr>\n",
       "      <th>5</th>\n",
       "      <td>Avengers: Infinity War</td>\n",
       "      <td>2018</td>\n",
       "      <td>April</td>\n",
       "      <td>149</td>\n",
       "      <td>300000000</td>\n",
       "      <td>2052415039</td>\n",
       "      <td>8.26</td>\n",
       "      <td>154.34</td>\n",
       "      <td>Adventure, Action, Science Fiction</td>\n",
       "      <td>English</td>\n",
       "      <td>English, Xhosa</td>\n",
       "      <td>Marvel Studios</td>\n",
       "      <td>United States of America</td>\n",
       "    </tr>\n",
       "    <tr>\n",
       "      <th>6</th>\n",
       "      <td>Guardians of the Galaxy</td>\n",
       "      <td>2014</td>\n",
       "      <td>July</td>\n",
       "      <td>121</td>\n",
       "      <td>170000000</td>\n",
       "      <td>772776600</td>\n",
       "      <td>7.91</td>\n",
       "      <td>33.26</td>\n",
       "      <td>Action, Science Fiction, Adventure</td>\n",
       "      <td>English</td>\n",
       "      <td>English</td>\n",
       "      <td>Marvel Studios</td>\n",
       "      <td>United States of America</td>\n",
       "    </tr>\n",
       "    <tr>\n",
       "      <th>7</th>\n",
       "      <td>Django Unchained</td>\n",
       "      <td>2012</td>\n",
       "      <td>December</td>\n",
       "      <td>165</td>\n",
       "      <td>100000000</td>\n",
       "      <td>425368238</td>\n",
       "      <td>8.17</td>\n",
       "      <td>54.22</td>\n",
       "      <td>Drama, Western</td>\n",
       "      <td>English</td>\n",
       "      <td>English, French, German</td>\n",
       "      <td>The Weinstein Company, Columbia Pictures</td>\n",
       "      <td>United States of America</td>\n",
       "    </tr>\n",
       "    <tr>\n",
       "      <th>8</th>\n",
       "      <td>Avengers: Endgame</td>\n",
       "      <td>2019</td>\n",
       "      <td>April</td>\n",
       "      <td>181</td>\n",
       "      <td>356000000</td>\n",
       "      <td>2800000000</td>\n",
       "      <td>8.26</td>\n",
       "      <td>91.76</td>\n",
       "      <td>Adventure, Science Fiction, Action</td>\n",
       "      <td>English</td>\n",
       "      <td>English, Japanese, Xhosa</td>\n",
       "      <td>Marvel Studios</td>\n",
       "      <td>United States of America</td>\n",
       "    </tr>\n",
       "    <tr>\n",
       "      <th>9</th>\n",
       "      <td>Joker</td>\n",
       "      <td>2019</td>\n",
       "      <td>October</td>\n",
       "      <td>122</td>\n",
       "      <td>55000000</td>\n",
       "      <td>1074458282</td>\n",
       "      <td>8.17</td>\n",
       "      <td>54.52</td>\n",
       "      <td>Crime, Thriller, Drama</td>\n",
       "      <td>English</td>\n",
       "      <td>English</td>\n",
       "      <td>Warner Bros. Pictures, Joint Effort, Village R...</td>\n",
       "      <td>Canada, United States of America</td>\n",
       "    </tr>\n",
       "    <tr>\n",
       "      <th>10</th>\n",
       "      <td>Shutter Island</td>\n",
       "      <td>2010</td>\n",
       "      <td>February</td>\n",
       "      <td>138</td>\n",
       "      <td>80000000</td>\n",
       "      <td>294800000</td>\n",
       "      <td>8.20</td>\n",
       "      <td>56.60</td>\n",
       "      <td>Drama, Thriller, Mystery</td>\n",
       "      <td>English</td>\n",
       "      <td>English, German</td>\n",
       "      <td>Phoenix Pictures, Paramount, Appian Way, Sikel...</td>\n",
       "      <td>United States of America</td>\n",
       "    </tr>\n",
       "  </tbody>\n",
       "</table>\n",
       "</div>"
      ],
      "text/plain": [
       "                      Title  Release Year Release Month  Run Time(Mins)  \\\n",
       "1                 Inception          2010          July             148   \n",
       "2              Interstellar          2014      November             169   \n",
       "3              The Avengers          2012         April             143   \n",
       "4                  Deadpool          2016      February             108   \n",
       "5    Avengers: Infinity War          2018         April             149   \n",
       "6   Guardians of the Galaxy          2014          July             121   \n",
       "7          Django Unchained          2012      December             165   \n",
       "8         Avengers: Endgame          2019         April             181   \n",
       "9                     Joker          2019       October             122   \n",
       "10           Shutter Island          2010      February             138   \n",
       "\n",
       "    Production Budget(USD)  Revenue(USD)  Average Rating  Popularity  \\\n",
       "1                160000000     825532764            8.36       83.95   \n",
       "2                165000000     701729206            8.42      140.24   \n",
       "3                220000000    1518815515            7.71       98.08   \n",
       "4                 58000000     783100000            7.61       72.74   \n",
       "5                300000000    2052415039            8.26      154.34   \n",
       "6                170000000     772776600            7.91       33.26   \n",
       "7                100000000     425368238            8.17       54.22   \n",
       "8                356000000    2800000000            8.26       91.76   \n",
       "9                 55000000    1074458282            8.17       54.52   \n",
       "10                80000000     294800000            8.20       56.60   \n",
       "\n",
       "                                Genres Language  \\\n",
       "1   Action, Science Fiction, Adventure  English   \n",
       "2    Adventure, Drama, Science Fiction  English   \n",
       "3   Science Fiction, Action, Adventure  English   \n",
       "4            Action, Adventure, Comedy  English   \n",
       "5   Adventure, Action, Science Fiction  English   \n",
       "6   Action, Science Fiction, Adventure  English   \n",
       "7                       Drama, Western  English   \n",
       "8   Adventure, Science Fiction, Action  English   \n",
       "9               Crime, Thriller, Drama  English   \n",
       "10            Drama, Thriller, Mystery  English   \n",
       "\n",
       "                      Spoken Languages  \\\n",
       "1   English, French, Japanese, Swahili   \n",
       "2                              English   \n",
       "3              English, Hindi, Russian   \n",
       "4                              English   \n",
       "5                       English, Xhosa   \n",
       "6                              English   \n",
       "7              English, French, German   \n",
       "8             English, Japanese, Xhosa   \n",
       "9                              English   \n",
       "10                     English, German   \n",
       "\n",
       "                                 Production Companies  \\\n",
       "1   Legendary Pictures, Syncopy, Warner Bros. Pict...   \n",
       "2   Legendary Pictures, Syncopy, Lynda Obst Produc...   \n",
       "3                                      Marvel Studios   \n",
       "4   20th Century Fox, The Donners' Company, Genre ...   \n",
       "5                                      Marvel Studios   \n",
       "6                                      Marvel Studios   \n",
       "7            The Weinstein Company, Columbia Pictures   \n",
       "8                                      Marvel Studios   \n",
       "9   Warner Bros. Pictures, Joint Effort, Village R...   \n",
       "10  Phoenix Pictures, Paramount, Appian Way, Sikel...   \n",
       "\n",
       "                        Production Countries  \n",
       "1   United Kingdom, United States of America  \n",
       "2   United Kingdom, United States of America  \n",
       "3                   United States of America  \n",
       "4                   United States of America  \n",
       "5                   United States of America  \n",
       "6                   United States of America  \n",
       "7                   United States of America  \n",
       "8                   United States of America  \n",
       "9           Canada, United States of America  \n",
       "10                  United States of America  "
      ]
     },
     "execution_count": 52,
     "metadata": {},
     "output_type": "execute_result"
    }
   ],
   "source": [
    "#Rounding floats to 2 decimal places\n",
    "movies_df['Average Rating'] = movies_df['Average Rating'].round(2)\n",
    "movies_df['Popularity'] = movies_df['Popularity'].round(2)\n",
    "movies_df.head(10)"
   ]
  },
  {
   "cell_type": "code",
   "execution_count": 47,
   "id": "496d7d8a-129e-4d3e-a46a-9fcf3daabf0b",
   "metadata": {},
   "outputs": [],
   "source": [
    "movies_df.to_csv('C:\\\\Users\\\\Admin\\\\Downloads\\\\Movies-Cleaned-df.csv', index= False)"
   ]
  },
  {
   "cell_type": "code",
   "execution_count": null,
   "id": "a8608e14-81a6-448a-ad95-32b4e79e3a9b",
   "metadata": {},
   "outputs": [],
   "source": []
  }
 ],
 "metadata": {
  "kernelspec": {
   "display_name": "Python 3 (ipykernel)",
   "language": "python",
   "name": "python3"
  },
  "language_info": {
   "codemirror_mode": {
    "name": "ipython",
    "version": 3
   },
   "file_extension": ".py",
   "mimetype": "text/x-python",
   "name": "python",
   "nbconvert_exporter": "python",
   "pygments_lexer": "ipython3",
   "version": "3.11.7"
  }
 },
 "nbformat": 4,
 "nbformat_minor": 5
}
